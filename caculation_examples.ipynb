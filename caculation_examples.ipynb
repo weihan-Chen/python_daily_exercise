{
 "nbformat": 4,
 "nbformat_minor": 2,
 "metadata": {
  "language_info": {
   "name": "python",
   "codemirror_mode": {
    "name": "ipython",
    "version": 3
   },
   "version": "3.8.2-final"
  },
  "orig_nbformat": 2,
  "file_extension": ".py",
  "mimetype": "text/x-python",
  "name": "python",
  "npconvert_exporter": "python",
  "pygments_lexer": "ipython3",
  "version": 3,
  "kernelspec": {
   "name": "python38264bit61ff1342ba6b428fa25ec22fca7ad672",
   "display_name": "Python 3.8.2 64-bit"
  }
 },
 "cells": [
  {
   "cell_type": "code",
   "execution_count": 2,
   "metadata": {},
   "outputs": [
    {
     "output_type": "execute_result",
     "data": {
      "text/plain": "6.082762530298219"
     },
     "metadata": {},
     "execution_count": 2
    }
   ],
   "source": [
    "# 求模\n",
    "number = -6 + 1j\n",
    "abs(number)"
   ]
  },
  {
   "cell_type": "code",
   "execution_count": 1,
   "metadata": {},
   "outputs": [
    {
     "output_type": "execute_result",
     "data": {
      "text/plain": "False"
     },
     "metadata": {},
     "execution_count": 1
    }
   ],
   "source": [
    "# 全为真的判断\n",
    "all([1,1,1,2,0])"
   ]
  },
  {
   "cell_type": "code",
   "execution_count": 1,
   "metadata": {},
   "outputs": [
    {
     "output_type": "execute_result",
     "data": {
      "text/plain": "True"
     },
     "metadata": {},
     "execution_count": 1
    }
   ],
   "source": [
    "# 至少一个为真\n",
    "any([1,1,1,0])"
   ]
  },
  {
   "cell_type": "code",
   "execution_count": 2,
   "metadata": {},
   "outputs": [
    {
     "output_type": "execute_result",
     "data": {
      "text/plain": "'0b1010'"
     },
     "metadata": {},
     "execution_count": 2
    }
   ],
   "source": [
    "# 十转二\n",
    "bin(10)"
   ]
  },
  {
   "cell_type": "code",
   "execution_count": 3,
   "metadata": {},
   "outputs": [
    {
     "output_type": "execute_result",
     "data": {
      "text/plain": "'0o12'"
     },
     "metadata": {},
     "execution_count": 3
    }
   ],
   "source": [
    "# 十转八\n",
    "oct(10)"
   ]
  },
  {
   "cell_type": "code",
   "execution_count": 4,
   "metadata": {},
   "outputs": [
    {
     "output_type": "execute_result",
     "data": {
      "text/plain": "'0xf'"
     },
     "metadata": {},
     "execution_count": 4
    }
   ],
   "source": [
    "# 十转十六\n",
    "hex(15)"
   ]
  },
  {
   "cell_type": "code",
   "execution_count": 8,
   "metadata": {},
   "outputs": [
    {
     "output_type": "execute_result",
     "data": {
      "text/plain": "False"
     },
     "metadata": {},
     "execution_count": 8
    }
   ],
   "source": [
    "# 判断真假\n",
    "bool([0,0,0])\n",
    "bool([])"
   ]
  },
  {
   "cell_type": "code",
   "execution_count": 10,
   "metadata": {},
   "outputs": [
    {
     "output_type": "execute_result",
     "data": {
      "text/plain": "b'\\xe8\\x8b\\xb9\\xe6\\x9e\\x9c'"
     },
     "metadata": {},
     "execution_count": 10
    }
   ],
   "source": [
    "# 字符串转字节\n",
    "s = '苹果'\n",
    "bytes(s, encoding='utf-8')"
   ]
  },
  {
   "cell_type": "code",
   "execution_count": 11,
   "metadata": {},
   "outputs": [
    {
     "output_type": "execute_result",
     "data": {
      "text/plain": "'100'"
     },
     "metadata": {},
     "execution_count": 11
    }
   ],
   "source": [
    "# 转为字符串\n",
    "i = 100\n",
    "str(i)"
   ]
  },
  {
   "cell_type": "code",
   "execution_count": 12,
   "metadata": {},
   "outputs": [
    {
     "output_type": "execute_result",
     "data": {
      "text/plain": "'A'"
     },
     "metadata": {},
     "execution_count": 12
    }
   ],
   "source": [
    "# 十转ASCII\n",
    "chr(65)"
   ]
  },
  {
   "cell_type": "code",
   "execution_count": 13,
   "metadata": {},
   "outputs": [
    {
     "output_type": "execute_result",
     "data": {
      "text/plain": "65"
     },
     "metadata": {},
     "execution_count": 13
    }
   ],
   "source": [
    "# ASCII转十\n",
    "ord('A')"
   ]
  },
  {
   "cell_type": "code",
   "execution_count": 1,
   "metadata": {},
   "outputs": [
    {
     "output_type": "stream",
     "name": "stdout",
     "text": "helloworld\n"
    }
   ],
   "source": [
    "# 执行字符串表示的代码\n",
    "# 将字符串编译成python能识别或可执行的代码，也可以将文字读成字符串再编译\n",
    "s = \"print('helloworld')\"\n",
    "r = compile(s, '<string>', 'exec')\n",
    "r\n",
    "exec(r)"
   ]
  },
  {
   "cell_type": "code",
   "execution_count": null,
   "metadata": {},
   "outputs": [],
   "source": []
  }
 ]
}