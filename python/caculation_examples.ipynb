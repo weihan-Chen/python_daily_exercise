{
 "nbformat": 4,
 "nbformat_minor": 2,
 "metadata": {
  "language_info": {
   "name": "python",
   "codemirror_mode": {
    "name": "ipython",
    "version": 3
   },
   "version": "3.8.2-final"
  },
  "orig_nbformat": 2,
  "file_extension": ".py",
  "mimetype": "text/x-python",
  "name": "python",
  "npconvert_exporter": "python",
  "pygments_lexer": "ipython3",
  "version": 3,
  "kernelspec": {
   "name": "python38264bit61ff1342ba6b428fa25ec22fca7ad672",
   "display_name": "Python 3.8.2 64-bit"
  }
 },
 "cells": [
  {
   "cell_type": "code",
   "execution_count": 2,
   "metadata": {},
   "outputs": [
    {
     "output_type": "execute_result",
     "data": {
      "text/plain": "6.082762530298219"
     },
     "metadata": {},
     "execution_count": 2
    }
   ],
   "source": [
    "# 求模\n",
    "number = -6 + 1j\n",
    "abs(number)"
   ]
  },
  {
   "cell_type": "code",
   "execution_count": 1,
   "metadata": {},
   "outputs": [
    {
     "output_type": "execute_result",
     "data": {
      "text/plain": "False"
     },
     "metadata": {},
     "execution_count": 1
    }
   ],
   "source": [
    "# 全为真的判断\n",
    "all([1,1,1,2,0])"
   ]
  },
  {
   "cell_type": "code",
   "execution_count": 1,
   "metadata": {},
   "outputs": [
    {
     "output_type": "execute_result",
     "data": {
      "text/plain": "True"
     },
     "metadata": {},
     "execution_count": 1
    }
   ],
   "source": [
    "# 至少一个为真\n",
    "any([1,1,1,0])"
   ]
  },
  {
   "cell_type": "code",
   "execution_count": 2,
   "metadata": {},
   "outputs": [
    {
     "output_type": "execute_result",
     "data": {
      "text/plain": "'0b1010'"
     },
     "metadata": {},
     "execution_count": 2
    }
   ],
   "source": [
    "# 十转二\n",
    "bin(10)"
   ]
  },
  {
   "cell_type": "code",
   "execution_count": 3,
   "metadata": {},
   "outputs": [
    {
     "output_type": "execute_result",
     "data": {
      "text/plain": "'0o12'"
     },
     "metadata": {},
     "execution_count": 3
    }
   ],
   "source": [
    "# 十转八\n",
    "oct(10)"
   ]
  },
  {
   "cell_type": "code",
   "execution_count": 4,
   "metadata": {},
   "outputs": [
    {
     "output_type": "execute_result",
     "data": {
      "text/plain": "'0xf'"
     },
     "metadata": {},
     "execution_count": 4
    }
   ],
   "source": [
    "# 十转十六\n",
    "hex(15)"
   ]
  },
  {
   "cell_type": "code",
   "execution_count": 8,
   "metadata": {},
   "outputs": [
    {
     "output_type": "execute_result",
     "data": {
      "text/plain": "False"
     },
     "metadata": {},
     "execution_count": 8
    }
   ],
   "source": [
    "# 判断真假\n",
    "bool([0,0,0])\n",
    "bool([])"
   ]
  },
  {
   "cell_type": "code",
   "execution_count": 10,
   "metadata": {},
   "outputs": [
    {
     "output_type": "execute_result",
     "data": {
      "text/plain": "b'\\xe8\\x8b\\xb9\\xe6\\x9e\\x9c'"
     },
     "metadata": {},
     "execution_count": 10
    }
   ],
   "source": [
    "# 字符串转字节\n",
    "s = '苹果'\n",
    "bytes(s, encoding='utf-8')"
   ]
  },
  {
   "cell_type": "code",
   "execution_count": 11,
   "metadata": {},
   "outputs": [
    {
     "output_type": "execute_result",
     "data": {
      "text/plain": "'100'"
     },
     "metadata": {},
     "execution_count": 11
    }
   ],
   "source": [
    "# 转为字符串\n",
    "i = 100\n",
    "str(i)"
   ]
  },
  {
   "cell_type": "code",
   "execution_count": 12,
   "metadata": {},
   "outputs": [
    {
     "output_type": "execute_result",
     "data": {
      "text/plain": "'A'"
     },
     "metadata": {},
     "execution_count": 12
    }
   ],
   "source": [
    "# 十转ASCII\n",
    "chr(65)"
   ]
  },
  {
   "cell_type": "code",
   "execution_count": 13,
   "metadata": {},
   "outputs": [
    {
     "output_type": "execute_result",
     "data": {
      "text/plain": "65"
     },
     "metadata": {},
     "execution_count": 13
    }
   ],
   "source": [
    "# ASCII转十\n",
    "ord('A')"
   ]
  },
  {
   "cell_type": "code",
   "execution_count": 1,
   "metadata": {},
   "outputs": [
    {
     "output_type": "stream",
     "name": "stdout",
     "text": "helloworld\n"
    }
   ],
   "source": [
    "# 执行字符串表示的代码\n",
    "# 将字符串编译成python能识别或可执行的代码，也可以将文字读成字符串再编译\n",
    "s = \"print('helloworld')\"\n",
    "r = compile(s, '<string>', 'exec')\n",
    "r\n",
    "exec(r)"
   ]
  },
  {
   "cell_type": "code",
   "execution_count": 1,
   "metadata": {},
   "outputs": [
    {
     "output_type": "execute_result",
     "data": {
      "text/plain": "(1+2j)"
     },
     "metadata": {},
     "execution_count": 1
    }
   ],
   "source": [
    "# 创建复数\n",
    "complex(1, 2)"
   ]
  },
  {
   "cell_type": "code",
   "execution_count": 12,
   "metadata": {},
   "outputs": [
    {
     "output_type": "stream",
     "name": "stdout",
     "text": "{} {'a': 'a', 'b': 'b'} {'a': 1, 'b': 2} {'a': 1, 'b': 2}\n"
    }
   ],
   "source": [
    "# 转为字典\n",
    "a = dict()\n",
    "b = dict(a='1',b='2')\n",
    "c = dict(zip(['a','b'], [1, 2]))\n",
    "d = dict([('a', 1), ('b', 2)])\n",
    "print(a, b, c, d)"
   ]
  },
  {
   "cell_type": "code",
   "execution_count": 13,
   "metadata": {},
   "outputs": [
    {
     "output_type": "execute_result",
     "data": {
      "text/plain": "['In',\n 'Out',\n '_',\n '_1',\n '_2',\n '__',\n '___',\n '__builtin__',\n '__builtins__',\n '__doc__',\n '__loader__',\n '__name__',\n '__package__',\n '__spec__',\n '_dh',\n '_i',\n '_i1',\n '_i10',\n '_i11',\n '_i12',\n '_i13',\n '_i2',\n '_i3',\n '_i4',\n '_i5',\n '_i6',\n '_i7',\n '_i8',\n '_i9',\n '_ih',\n '_ii',\n '_iii',\n '_oh',\n 'a',\n 'b',\n 'c',\n 'd',\n 'exit',\n 'get_ipython',\n 'os',\n 'quit',\n 'sys']"
     },
     "metadata": {},
     "execution_count": 13
    }
   ],
   "source": [
    "# 一键查看对象所有方法\n",
    "dir()"
   ]
  },
  {
   "cell_type": "code",
   "execution_count": 14,
   "metadata": {},
   "outputs": [
    {
     "output_type": "execute_result",
     "data": {
      "text/plain": "(3, 1)"
     },
     "metadata": {},
     "execution_count": 14
    }
   ],
   "source": [
    "# 取商和余数\n",
    "divmod(10, 3)"
   ]
  },
  {
   "cell_type": "code",
   "execution_count": 15,
   "metadata": {},
   "outputs": [
    {
     "output_type": "stream",
     "name": "stdout",
     "text": "1 a\n2 b\n3 c\n"
    }
   ],
   "source": [
    "# 枚举对象\n",
    "s = ['a', 'b', 'c']\n",
    "for i, v in enumerate(s, 1):\n",
    "    print(i, v)"
   ]
  },
  {
   "cell_type": "code",
   "execution_count": 16,
   "metadata": {},
   "outputs": [
    {
     "output_type": "execute_result",
     "data": {
      "text/plain": "9"
     },
     "metadata": {},
     "execution_count": 16
    }
   ],
   "source": [
    "# 计算表达式\n",
    "s = '1 + 3 + 5'\n",
    "eval(s)"
   ]
  },
  {
   "cell_type": "code",
   "execution_count": 17,
   "metadata": {},
   "outputs": [
    {
     "output_type": "execute_result",
     "data": {
      "text/plain": "232"
     },
     "metadata": {},
     "execution_count": 17
    }
   ],
   "source": [
    "# 查看变量所占的字节数\n",
    "import sys\n",
    "b = dict(a='1',b='2')\n",
    "sys.getsizeof(b)"
   ]
  },
  {
   "cell_type": "code",
   "execution_count": 18,
   "metadata": {},
   "outputs": [
    {
     "output_type": "execute_result",
     "data": {
      "text/plain": "[11, 45, 13]"
     },
     "metadata": {},
     "execution_count": 18
    }
   ],
   "source": [
    "# 过滤器\n",
    "fil = filter(lambda x: x>10, [1,11,2,45,7,8,13])\n",
    "list(fil)"
   ]
  },
  {
   "cell_type": "code",
   "execution_count": 19,
   "metadata": {},
   "outputs": [
    {
     "output_type": "execute_result",
     "data": {
      "text/plain": "3.0"
     },
     "metadata": {},
     "execution_count": 19
    }
   ],
   "source": [
    "# 转为浮点类型\n",
    "float(3)"
   ]
  },
  {
   "cell_type": "code",
   "execution_count": 20,
   "metadata": {},
   "outputs": [
    {
     "output_type": "execute_result",
     "data": {
      "text/plain": "frozenset({1, 2, 3})"
     },
     "metadata": {},
     "execution_count": 20
    }
   ],
   "source": [
    "# 创建冻结的集合\n",
    "frozenset([1,2,3])"
   ]
  },
  {
   "cell_type": "code",
   "execution_count": 1,
   "metadata": {},
   "outputs": [
    {
     "output_type": "error",
     "ename": "NameError",
     "evalue": "name '小明' is not defined",
     "traceback": [
      "\u001b[1;31m---------------------------------------------------------------------------\u001b[0m",
      "\u001b[1;31mNameError\u001b[0m                                 Traceback (most recent call last)",
      "\u001b[1;32m<ipython-input-1-cd5e7084c3b5>\u001b[0m in \u001b[0;36m<module>\u001b[1;34m\u001b[0m\n\u001b[0;32m      1\u001b[0m \u001b[1;31m# 对象内存地址\u001b[0m\u001b[1;33m\u001b[0m\u001b[1;33m\u001b[0m\u001b[1;33m\u001b[0m\u001b[0m\n\u001b[1;32m----> 2\u001b[1;33m \u001b[0mid\u001b[0m\u001b[1;33m(\u001b[0m\u001b[0m小明\u001b[0m\u001b[1;33m)\u001b[0m\u001b[1;33m\u001b[0m\u001b[1;33m\u001b[0m\u001b[0m\n\u001b[0m",
      "\u001b[1;31mNameError\u001b[0m: name '小明' is not defined"
     ]
    }
   ],
   "source": [
    "# 对象内存地址\n",
    "id(小明)"
   ]
  },
  {
   "cell_type": "code",
   "execution_count": 3,
   "metadata": {},
   "outputs": [
    {
     "output_type": "execute_result",
     "data": {
      "text/plain": "range(0, 11)"
     },
     "metadata": {},
     "execution_count": 3
    }
   ],
   "source": [
    "# 创建range序列\n",
    "range(11)\n",
    "range(0, 11)"
   ]
  },
  {
   "cell_type": "code",
   "execution_count": 6,
   "metadata": {},
   "outputs": [
    {
     "output_type": "stream",
     "name": "stdout",
     "text": "1\n3\n2\n4\n1\n"
    }
   ],
   "source": [
    "# 反向迭代器\n",
    "rev = reversed([1,4,2,3,1])\n",
    "for i in rev:\n",
    "    print(i)"
   ]
  },
  {
   "cell_type": "code",
   "execution_count": 7,
   "metadata": {},
   "outputs": [
    {
     "output_type": "execute_result",
     "data": {
      "text/plain": "10.002"
     },
     "metadata": {},
     "execution_count": 7
    }
   ],
   "source": [
    "# 四舍五入\n",
    "round(10.0022222, 3)# 数，保留几位"
   ]
  },
  {
   "cell_type": "code",
   "execution_count": 8,
   "metadata": {},
   "outputs": [
    {
     "output_type": "execute_result",
     "data": {
      "text/plain": "{1, 2, 3, 4}"
     },
     "metadata": {},
     "execution_count": 8
    }
   ],
   "source": [
    "# 转为集合类型\n",
    "a = [1,4,2,3,1]\n",
    "set(a)"
   ]
  },
  {
   "cell_type": "code",
   "execution_count": 16,
   "metadata": {},
   "outputs": [
    {
     "output_type": "execute_result",
     "data": {
      "text/plain": "[{'name': 'xiaoming', 'age': 18, 'gender': 'male'},\n {'name': 'xiachong', 'age': 20, 'gender': 'female'}]"
     },
     "metadata": {},
     "execution_count": 16
    }
   ],
   "source": [
    "# 排序\n",
    "a = [1,4,2,3,1]\n",
    "sorted(a, reverse=True)\n",
    "b = [{'name':'xiaoming', 'age': 18,'gender': 'male'},{'name':'xiachong','age': 20, 'gender': 'female'}]\n",
    "sorted(b, key=lambda x: x['age'])"
   ]
  },
  {
   "cell_type": "code",
   "execution_count": 17,
   "metadata": {},
   "outputs": [
    {
     "output_type": "execute_result",
     "data": {
      "text/plain": "11"
     },
     "metadata": {},
     "execution_count": 17
    }
   ],
   "source": [
    "# 求和\n",
    "a = [1,4,2,3,1]\n",
    "sum(a)"
   ]
  },
  {
   "cell_type": "code",
   "execution_count": 18,
   "metadata": {},
   "outputs": [
    {
     "output_type": "stream",
     "name": "stdout",
     "text": "(1, 4, 2, 3, 1)\n"
    }
   ],
   "source": [
    "# 转为元组类型\n",
    "i_am_list = [1,4,2,3,1]\n",
    "i_am_tuple = tuple(i_am_list)\n",
    "print(i_am_tuple)"
   ]
  },
  {
   "cell_type": "code",
   "execution_count": 20,
   "metadata": {},
   "outputs": [
    {
     "output_type": "stream",
     "name": "stdout",
     "text": "False\nTrue\n"
    }
   ],
   "source": [
    "# 链式比较\n",
    "i = 3\n",
    "print(1 < i < 3)\n",
    "print(1 < i <= 3)"
   ]
  },
  {
   "cell_type": "code",
   "execution_count": null,
   "metadata": {},
   "outputs": [],
   "source": []
  }
 ]
}