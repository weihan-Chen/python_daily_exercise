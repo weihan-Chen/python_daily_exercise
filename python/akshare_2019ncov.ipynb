{
 "cells": [
  {
   "cell_type": "code",
   "execution_count": 1,
   "metadata": {},
   "outputs": [
    {
     "output_type": "display_data",
     "data": {
      "text/plain": "<Figure size 2400x1200 with 1 Axes>"
     },
     "metadata": {}
    }
   ],
   "source": [
    "import akshare as ak\n",
    "import pylab as plt\n",
    "import pandas as pd\n",
    "import seaborn as sns\n",
    "\n",
    "# 提取数据\n",
    "df_index4 = ak.weibo_index(word=\"武汉\", time_type=\"3month\")\n",
    "df_index6 = ak.weibo_index(word=\"CDC\", time_type=\"3month\")\n",
    "df_index7 = ak.weibo_index(word=\"钟南山\", time_type=\"3month\")\n",
    "df_index5 = ak.weibo_index(word=\"疫情\", time_type=\"3month\")\n",
    "\n",
    "plt.figure(figsize=(12, 6), dpi = 200)\n",
    "plt.style.use('fivethirtyeight')\n",
    "plt.plot(df_index4.index, df_index4, label = '武汉', alpha = 0.5)\n",
    "plt.plot(df_index5.index, df_index5, label = '疫情', alpha = 0.5)\n",
    "plt.plot(df_index6.index, df_index6, label = 'CDC', alpha = 0.5)\n",
    "plt.plot(df_index7.index, df_index7, label = '钟南山', alpha = 0.5)\n",
    "plt.legend()\n",
    "plt.yscale('log')\n",
    "plt.xticks(rotation=60)\n",
    "plt.ylabel('微博指数', fontsize = 20)\n",
    "plt.show()"
   ]
  },
  {
   "cell_type": "code",
   "execution_count": null,
   "metadata": {},
   "outputs": [],
   "source": []
  }
 ],
 "metadata": {
  "kernelspec": {
   "display_name": "Python 3",
   "language": "python",
   "name": "python3"
  },
  "language_info": {
   "codemirror_mode": {
    "name": "ipython",
    "version": 3
   },
   "file_extension": ".py",
   "mimetype": "text/x-python",
   "name": "python",
   "nbconvert_exporter": "python",
   "pygments_lexer": "ipython3",
   "version": "3.7.0-final"
  }
 },
 "nbformat": 4,
 "nbformat_minor": 2
}